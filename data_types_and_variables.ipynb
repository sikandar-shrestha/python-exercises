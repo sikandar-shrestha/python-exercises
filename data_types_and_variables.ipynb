{
 "cells": [
  {
   "cell_type": "markdown",
   "id": "1fbd7bf3",
   "metadata": {},
   "source": [
    "## Q1) Identify the data type of the following values:\n",
    "\n",
    "99.9,\"False\",False,'0',0,True,'True',[{}],{'a':[]}"
   ]
  },
  {
   "cell_type": "code",
   "execution_count": 1,
   "id": "14aa60c0",
   "metadata": {},
   "outputs": [
    {
     "data": {
      "text/plain": [
       "float"
      ]
     },
     "execution_count": 1,
     "metadata": {},
     "output_type": "execute_result"
    }
   ],
   "source": [
    "type(99.9)"
   ]
  },
  {
   "cell_type": "code",
   "execution_count": 2,
   "id": "73221a99",
   "metadata": {},
   "outputs": [
    {
     "data": {
      "text/plain": [
       "str"
      ]
     },
     "execution_count": 2,
     "metadata": {},
     "output_type": "execute_result"
    }
   ],
   "source": [
    "type(\"False\")"
   ]
  },
  {
   "cell_type": "code",
   "execution_count": 3,
   "id": "860fb743",
   "metadata": {},
   "outputs": [
    {
     "data": {
      "text/plain": [
       "bool"
      ]
     },
     "execution_count": 3,
     "metadata": {},
     "output_type": "execute_result"
    }
   ],
   "source": [
    "type(False)"
   ]
  },
  {
   "cell_type": "code",
   "execution_count": 4,
   "id": "ecc87e79",
   "metadata": {},
   "outputs": [
    {
     "data": {
      "text/plain": [
       "str"
      ]
     },
     "execution_count": 4,
     "metadata": {},
     "output_type": "execute_result"
    }
   ],
   "source": [
    "type('0')"
   ]
  },
  {
   "cell_type": "code",
   "execution_count": 5,
   "id": "b6d6921a",
   "metadata": {},
   "outputs": [
    {
     "data": {
      "text/plain": [
       "int"
      ]
     },
     "execution_count": 5,
     "metadata": {},
     "output_type": "execute_result"
    }
   ],
   "source": [
    "type(0)"
   ]
  },
  {
   "cell_type": "code",
   "execution_count": 6,
   "id": "59011f17",
   "metadata": {},
   "outputs": [
    {
     "data": {
      "text/plain": [
       "bool"
      ]
     },
     "execution_count": 6,
     "metadata": {},
     "output_type": "execute_result"
    }
   ],
   "source": [
    "type(True)"
   ]
  },
  {
   "cell_type": "code",
   "execution_count": 7,
   "id": "2e5112af",
   "metadata": {},
   "outputs": [
    {
     "data": {
      "text/plain": [
       "str"
      ]
     },
     "execution_count": 7,
     "metadata": {},
     "output_type": "execute_result"
    }
   ],
   "source": [
    "type('True')"
   ]
  },
  {
   "cell_type": "code",
   "execution_count": 8,
   "id": "fd1105d3",
   "metadata": {},
   "outputs": [
    {
     "data": {
      "text/plain": [
       "list"
      ]
     },
     "execution_count": 8,
     "metadata": {},
     "output_type": "execute_result"
    }
   ],
   "source": [
    "type([{}])"
   ]
  },
  {
   "cell_type": "code",
   "execution_count": 9,
   "id": "e0aae62a",
   "metadata": {},
   "outputs": [
    {
     "data": {
      "text/plain": [
       "dict"
      ]
     },
     "execution_count": 9,
     "metadata": {},
     "output_type": "execute_result"
    }
   ],
   "source": [
    "type({'a':[]})"
   ]
  },
  {
   "cell_type": "markdown",
   "id": "805b0e4e",
   "metadata": {},
   "source": [
    "## Q2)  What data type would best represent the following?\n",
    "\n",
    "-A term or phrase typed into a search box\n",
    "\n",
    "ans:- String(Text)\n",
    "\n",
    "\n",
    "-Whether or not a user is logged in\n",
    "\n",
    "ans:- Boolean\n",
    "\n",
    "\n",
    "-A discount amount to apply to a user's shopping cart\n",
    "\n",
    "ans:- float\n",
    "\n",
    "\n",
    "-Whether or not a coupon code is valid\n",
    "\n",
    "ans:- Boolean\n",
    "\n",
    "\n",
    "-An email address typed into a registration form\n",
    "\n",
    "ans:- String\n",
    "\n",
    "\n",
    "-The price of a product\n",
    "\n",
    "ans:- float\n",
    "\n",
    "\n",
    "-The email addresses collected from a registration form\n",
    "\n",
    "ans:- list\n",
    "\n",
    "\n",
    "-Information about applicants to Codeup's data science program\n",
    "\n",
    "ans:- dict\n"
   ]
  },
  {
   "cell_type": "markdown",
   "id": "82bcd345",
   "metadata": {},
   "source": [
    "## Q3) For each of the following code blocks:\n",
    "\n",
    "Read the expression and predict the evaluated results\n",
    "\n",
    "Execute the expression in a Python REPL.\n",
    "\n",
    "\n",
    "'1' + 2\n",
    "\n",
    "6 % 4\n",
    "\n",
    "type(6 % 4)\n",
    "\n",
    "type(type(6 % 4))\n",
    "\n",
    "'3 + 4 is ' + 3 + 4\n",
    "\n",
    "0 < 0\n",
    "\n",
    "'False' == False\n",
    "\n",
    "True == 'True'\n",
    "\n",
    "5 >= -5\n",
    "\n",
    "True or \"42\"\n",
    "\n",
    "6 % 5\n",
    "\n",
    "5 < 4 and 1 == 1\n",
    "\n",
    "'codeup' == 'codeup' and 'codeup' == 'Codeup'\n",
    "\n",
    "4 >= 0 and 1 !== '1'\n",
    "\n",
    "6 % 3 == 0\n",
    "\n",
    "5 % 2 != 0\n",
    "\n",
    "[1] + 2\n",
    "\n",
    "[1] + [2]\n",
    "\n",
    "[1] * 2\n",
    "\n",
    "[1] * [2]\n",
    "\n",
    "[] + [] == []\n",
    "\n",
    "{} + {}"
   ]
  },
  {
   "cell_type": "code",
   "execution_count": 10,
   "id": "b7846456",
   "metadata": {},
   "outputs": [
    {
     "ename": "TypeError",
     "evalue": "can only concatenate str (not \"int\") to str",
     "output_type": "error",
     "traceback": [
      "\u001b[0;31m---------------------------------------------------------------------------\u001b[0m",
      "\u001b[0;31mTypeError\u001b[0m                                 Traceback (most recent call last)",
      "Cell \u001b[0;32mIn[10], line 1\u001b[0m\n\u001b[0;32m----> 1\u001b[0m \u001b[38;5;124m'\u001b[39m\u001b[38;5;124m1\u001b[39m\u001b[38;5;124m'\u001b[39m \u001b[38;5;241m+\u001b[39m \u001b[38;5;241m2\u001b[39m\n",
      "\u001b[0;31mTypeError\u001b[0m: can only concatenate str (not \"int\") to str"
     ]
    }
   ],
   "source": [
    "'1' + 2\n"
   ]
  },
  {
   "cell_type": "code",
   "execution_count": 12,
   "id": "3103e6bb",
   "metadata": {},
   "outputs": [
    {
     "data": {
      "text/plain": [
       "2"
      ]
     },
     "execution_count": 12,
     "metadata": {},
     "output_type": "execute_result"
    }
   ],
   "source": [
    "6 % 4\n"
   ]
  },
  {
   "cell_type": "code",
   "execution_count": 13,
   "id": "dc155568",
   "metadata": {},
   "outputs": [
    {
     "data": {
      "text/plain": [
       "int"
      ]
     },
     "execution_count": 13,
     "metadata": {},
     "output_type": "execute_result"
    }
   ],
   "source": [
    "type(6 % 4)\n"
   ]
  },
  {
   "cell_type": "code",
   "execution_count": 14,
   "id": "95cc7efe",
   "metadata": {},
   "outputs": [
    {
     "data": {
      "text/plain": [
       "type"
      ]
     },
     "execution_count": 14,
     "metadata": {},
     "output_type": "execute_result"
    }
   ],
   "source": [
    "type(type(6 % 4))\n"
   ]
  },
  {
   "cell_type": "code",
   "execution_count": 15,
   "id": "48affe13",
   "metadata": {},
   "outputs": [
    {
     "ename": "TypeError",
     "evalue": "can only concatenate str (not \"int\") to str",
     "output_type": "error",
     "traceback": [
      "\u001b[0;31m---------------------------------------------------------------------------\u001b[0m",
      "\u001b[0;31mTypeError\u001b[0m                                 Traceback (most recent call last)",
      "Cell \u001b[0;32mIn[15], line 1\u001b[0m\n\u001b[0;32m----> 1\u001b[0m \u001b[38;5;124m'\u001b[39m\u001b[38;5;124m3 + 4 is \u001b[39m\u001b[38;5;124m'\u001b[39m \u001b[38;5;241m+\u001b[39m \u001b[38;5;241m3\u001b[39m \u001b[38;5;241m+\u001b[39m \u001b[38;5;241m4\u001b[39m\n",
      "\u001b[0;31mTypeError\u001b[0m: can only concatenate str (not \"int\") to str"
     ]
    }
   ],
   "source": [
    "'3 + 4 is ' + 3 + 4\n"
   ]
  },
  {
   "cell_type": "code",
   "execution_count": 17,
   "id": "2c5a816d",
   "metadata": {},
   "outputs": [
    {
     "data": {
      "text/plain": [
       "False"
      ]
     },
     "execution_count": 17,
     "metadata": {},
     "output_type": "execute_result"
    }
   ],
   "source": [
    "0 < 0\n"
   ]
  },
  {
   "cell_type": "code",
   "execution_count": 18,
   "id": "d66143c7",
   "metadata": {},
   "outputs": [
    {
     "data": {
      "text/plain": [
       "False"
      ]
     },
     "execution_count": 18,
     "metadata": {},
     "output_type": "execute_result"
    }
   ],
   "source": [
    "'False' == False\n"
   ]
  },
  {
   "cell_type": "code",
   "execution_count": 19,
   "id": "d5280c12",
   "metadata": {},
   "outputs": [
    {
     "data": {
      "text/plain": [
       "False"
      ]
     },
     "execution_count": 19,
     "metadata": {},
     "output_type": "execute_result"
    }
   ],
   "source": [
    "True == 'True'\n"
   ]
  },
  {
   "cell_type": "code",
   "execution_count": 20,
   "id": "e389112a",
   "metadata": {},
   "outputs": [
    {
     "data": {
      "text/plain": [
       "True"
      ]
     },
     "execution_count": 20,
     "metadata": {},
     "output_type": "execute_result"
    }
   ],
   "source": [
    "5 >= -5\n"
   ]
  },
  {
   "cell_type": "code",
   "execution_count": 21,
   "id": "9e4d78e0",
   "metadata": {},
   "outputs": [
    {
     "data": {
      "text/plain": [
       "True"
      ]
     },
     "execution_count": 21,
     "metadata": {},
     "output_type": "execute_result"
    }
   ],
   "source": [
    "True or \"42\"\n"
   ]
  },
  {
   "cell_type": "code",
   "execution_count": 22,
   "id": "84eabfb1",
   "metadata": {},
   "outputs": [
    {
     "data": {
      "text/plain": [
       "True"
      ]
     },
     "execution_count": 22,
     "metadata": {},
     "output_type": "execute_result"
    }
   ],
   "source": [
    "5 >= -5\n"
   ]
  },
  {
   "cell_type": "code",
   "execution_count": 23,
   "id": "55930dae",
   "metadata": {},
   "outputs": [
    {
     "data": {
      "text/plain": [
       "True"
      ]
     },
     "execution_count": 23,
     "metadata": {},
     "output_type": "execute_result"
    }
   ],
   "source": [
    "True or \"42\"\n"
   ]
  },
  {
   "cell_type": "code",
   "execution_count": 24,
   "id": "fd3ad9a7",
   "metadata": {},
   "outputs": [
    {
     "data": {
      "text/plain": [
       "1"
      ]
     },
     "execution_count": 24,
     "metadata": {},
     "output_type": "execute_result"
    }
   ],
   "source": [
    "6 % 5\n"
   ]
  },
  {
   "cell_type": "code",
   "execution_count": 25,
   "id": "9fa9a0c7",
   "metadata": {},
   "outputs": [
    {
     "data": {
      "text/plain": [
       "False"
      ]
     },
     "execution_count": 25,
     "metadata": {},
     "output_type": "execute_result"
    }
   ],
   "source": [
    "5 < 4 and 1 == 1\n"
   ]
  },
  {
   "cell_type": "code",
   "execution_count": 26,
   "id": "2ffe2c7d",
   "metadata": {},
   "outputs": [
    {
     "data": {
      "text/plain": [
       "False"
      ]
     },
     "execution_count": 26,
     "metadata": {},
     "output_type": "execute_result"
    }
   ],
   "source": [
    "'codeup' == 'codeup' and 'codeup' == 'Codeup'\n"
   ]
  },
  {
   "cell_type": "code",
   "execution_count": 27,
   "id": "ad376446",
   "metadata": {},
   "outputs": [
    {
     "ename": "SyntaxError",
     "evalue": "invalid syntax (3850088429.py, line 1)",
     "output_type": "error",
     "traceback": [
      "\u001b[0;36m  Cell \u001b[0;32mIn[27], line 1\u001b[0;36m\u001b[0m\n\u001b[0;31m    4 >= 0 and 1 !== '1'\u001b[0m\n\u001b[0m                   ^\u001b[0m\n\u001b[0;31mSyntaxError\u001b[0m\u001b[0;31m:\u001b[0m invalid syntax\n"
     ]
    }
   ],
   "source": [
    "4 >= 0 and 1 !== '1'\n"
   ]
  },
  {
   "cell_type": "code",
   "execution_count": 29,
   "id": "fe0fa83a",
   "metadata": {},
   "outputs": [
    {
     "data": {
      "text/plain": [
       "True"
      ]
     },
     "execution_count": 29,
     "metadata": {},
     "output_type": "execute_result"
    }
   ],
   "source": [
    "6 % 3 == 0\n",
    "\n"
   ]
  },
  {
   "cell_type": "code",
   "execution_count": 30,
   "id": "a92cda87",
   "metadata": {},
   "outputs": [
    {
     "data": {
      "text/plain": [
       "True"
      ]
     },
     "execution_count": 30,
     "metadata": {},
     "output_type": "execute_result"
    }
   ],
   "source": [
    "5 % 2 != 0\n"
   ]
  },
  {
   "cell_type": "code",
   "execution_count": 31,
   "id": "b196d424",
   "metadata": {
    "scrolled": true
   },
   "outputs": [
    {
     "ename": "TypeError",
     "evalue": "can only concatenate list (not \"int\") to list",
     "output_type": "error",
     "traceback": [
      "\u001b[0;31m---------------------------------------------------------------------------\u001b[0m",
      "\u001b[0;31mTypeError\u001b[0m                                 Traceback (most recent call last)",
      "Cell \u001b[0;32mIn[31], line 1\u001b[0m\n\u001b[0;32m----> 1\u001b[0m [\u001b[38;5;241m1\u001b[39m] \u001b[38;5;241m+\u001b[39m \u001b[38;5;241m2\u001b[39m\n",
      "\u001b[0;31mTypeError\u001b[0m: can only concatenate list (not \"int\") to list"
     ]
    }
   ],
   "source": [
    "[1] + 2\n"
   ]
  },
  {
   "cell_type": "code",
   "execution_count": 33,
   "id": "d96e4f00",
   "metadata": {},
   "outputs": [
    {
     "data": {
      "text/plain": [
       "[1, 2]"
      ]
     },
     "execution_count": 33,
     "metadata": {},
     "output_type": "execute_result"
    }
   ],
   "source": [
    "[1] + [2]\n"
   ]
  },
  {
   "cell_type": "code",
   "execution_count": 34,
   "id": "60e5ebe3",
   "metadata": {},
   "outputs": [
    {
     "data": {
      "text/plain": [
       "[1, 1]"
      ]
     },
     "execution_count": 34,
     "metadata": {},
     "output_type": "execute_result"
    }
   ],
   "source": [
    "[1] * 2\n"
   ]
  },
  {
   "cell_type": "code",
   "execution_count": 35,
   "id": "4128d3d3",
   "metadata": {},
   "outputs": [
    {
     "ename": "TypeError",
     "evalue": "can't multiply sequence by non-int of type 'list'",
     "output_type": "error",
     "traceback": [
      "\u001b[0;31m---------------------------------------------------------------------------\u001b[0m",
      "\u001b[0;31mTypeError\u001b[0m                                 Traceback (most recent call last)",
      "Cell \u001b[0;32mIn[35], line 1\u001b[0m\n\u001b[0;32m----> 1\u001b[0m [\u001b[38;5;241m1\u001b[39m] \u001b[38;5;241m*\u001b[39m [\u001b[38;5;241m2\u001b[39m]\n",
      "\u001b[0;31mTypeError\u001b[0m: can't multiply sequence by non-int of type 'list'"
     ]
    }
   ],
   "source": [
    "[1] * [2]\n"
   ]
  },
  {
   "cell_type": "code",
   "execution_count": 36,
   "id": "ba5deb19",
   "metadata": {},
   "outputs": [
    {
     "data": {
      "text/plain": [
       "True"
      ]
     },
     "execution_count": 36,
     "metadata": {},
     "output_type": "execute_result"
    }
   ],
   "source": [
    "[] + [] == []\n"
   ]
  },
  {
   "cell_type": "code",
   "execution_count": 37,
   "id": "73c6e88f",
   "metadata": {},
   "outputs": [
    {
     "ename": "TypeError",
     "evalue": "unsupported operand type(s) for +: 'dict' and 'dict'",
     "output_type": "error",
     "traceback": [
      "\u001b[0;31m---------------------------------------------------------------------------\u001b[0m",
      "\u001b[0;31mTypeError\u001b[0m                                 Traceback (most recent call last)",
      "Cell \u001b[0;32mIn[37], line 1\u001b[0m\n\u001b[0;32m----> 1\u001b[0m {} \u001b[38;5;241m+\u001b[39m {}\n",
      "\u001b[0;31mTypeError\u001b[0m: unsupported operand type(s) for +: 'dict' and 'dict'"
     ]
    }
   ],
   "source": [
    "{} + {}\n"
   ]
  },
  {
   "cell_type": "markdown",
   "id": "9918ecd6",
   "metadata": {},
   "source": [
    "## Describe the following scenarios. You will need to create and assign variables and use operators.\n",
    "\n",
    "\n",
    "\n",
    "4. You have rented some movies for your kids:\n",
    "\n",
    "The Little Mermaid for 3 days\n",
    "\n",
    "Brother Bear for 5 days\n",
    "\n",
    "Hercules for 1 day\n",
    "\n",
    "If the daily fee to rent a movie is 3 dollars, how much will you have to pay?\n",
    "\n",
    "\n",
    "\n",
    "\n",
    "5. Suppose you're working as a contractor for 3 companies: Google, Amazon and Facebook.\n",
    "\n",
    "They pay you the following hourly rates:\n",
    "\n",
    "Google: 400 dollars\n",
    "\n",
    "Amazon: 380 dollars\n",
    "\n",
    "Facebook: 350 dollars\n",
    "\n",
    "This week you worked: 10 hours for Facebook, 6 hours for Google, and 4 hours for Amazon.\n",
    "\n",
    "How much will you receive in payment for this week?\n",
    "\n",
    "\n",
    "\n",
    "\n",
    "\n",
    "6. A student can be enrolled in a class only if the class is not full and the class schedule does not conflict with    her current schedule.\n",
    "\n",
    "\n",
    "\n",
    "\n",
    "\n",
    "\n",
    "\n",
    "7. A product offer can be applied only if a customer buys more than 2 items, and the offer has not expired.\n",
    "   Premium members do not need to buy a specific amount of products.\n",
    "\n",
    "\n"
   ]
  },
  {
   "cell_type": "code",
   "execution_count": 38,
   "id": "9d4408af",
   "metadata": {},
   "outputs": [
    {
     "name": "stdout",
     "output_type": "stream",
     "text": [
      "Total cost for renting movies: $ 27\n"
     ]
    }
   ],
   "source": [
    "## Q4) above \n",
    "\n",
    "# Define the number of days each movie is rented\n",
    "little_mermaid_days = 3\n",
    "brother_bear_days = 5\n",
    "hercules_days = 1\n",
    "\n",
    "# Define the daily rental fee per movieb\n",
    "daily_rental_fee = 3  # 3 dollars per day\n",
    "\n",
    "# Calculate the total cost for each movie\n",
    "little_mermaid_cost = little_mermaid_days * daily_rental_fee\n",
    "brother_bear_cost = brother_bear_days * daily_rental_fee\n",
    "hercules_cost = hercules_days * daily_rental_fee\n",
    "\n",
    "# Calculate the total cost for all movies\n",
    "total_cost = little_mermaid_cost + brother_bear_cost + hercules_cost\n",
    "\n",
    "# Print the total cost\n",
    "print(\"Total cost for renting movies: $\", total_cost)\n"
   ]
  },
  {
   "cell_type": "code",
   "execution_count": 39,
   "id": "0882dc29",
   "metadata": {},
   "outputs": [
    {
     "data": {
      "text/plain": [
       "27"
      ]
     },
     "execution_count": 39,
     "metadata": {},
     "output_type": "execute_result"
    }
   ],
   "source": [
    "## OR for Q4)\n",
    "little_mermaid=3\n",
    "brother_bear=5\n",
    "hercules=1\n",
    "\n",
    "total_no_days=little_mermaid+brother_bear+hercules\n",
    "rent_fee=3\n",
    "\n",
    "pay=total_no_days*rent_fee\n",
    "pay"
   ]
  },
  {
   "cell_type": "markdown",
   "id": "c2ea8202",
   "metadata": {},
   "source": [
    "## Q5) Suppose you're working as a contractor for 3 companies: Google, Amazon and     Facebook.\n",
    "\n",
    "They pay you the following hourly rates:\n",
    "\n",
    "Google: 400 dollars\n",
    "\n",
    "Amazon: 380 dollars\n",
    "\n",
    "Facebook: 350 dollars\n",
    "\n",
    "This week you worked: 10 hours for Facebook, 6 hours for Google, and 4 hours for Amazon.\n",
    "\n",
    "How much will you receive in payment for this week?"
   ]
  },
  {
   "cell_type": "code",
   "execution_count": 40,
   "id": "99d91bd8",
   "metadata": {},
   "outputs": [
    {
     "name": "stdout",
     "output_type": "stream",
     "text": [
      "Total payment for all three companies: $ 7420\n"
     ]
    }
   ],
   "source": [
    "## Q5) above\n",
    "\n",
    "# Define the pay in hourly rates:\n",
    "google=400\n",
    "amazon=380\n",
    "facebook=350\n",
    "\n",
    "# Define the number of worked for this week in those companies:\n",
    "worked_google=6\n",
    "worked_amazon=4\n",
    "worked_facebook=10\n",
    "\n",
    "#Calculate the payment that he receives from each company:\n",
    "payment_google=worked_google*google\n",
    "payment_amazon=worked_amazon*amazon\n",
    "payment_facebook=worked_facebook*facebook\n",
    "\n",
    "# Calculate the total payment that he receives:\n",
    "total_payment=payment_google+payment_amazon+payment_facebook\n",
    "\n",
    "#Print the total payment:\n",
    "print(\"Total payment for all three companies: $\",total_payment)\n",
    "\n",
    "\n",
    "\n",
    "\n",
    "\n",
    "\n",
    "\n",
    "\n",
    "\n",
    "\n",
    "\n",
    "\n",
    "\n"
   ]
  },
  {
   "cell_type": "markdown",
   "id": "e26eeb46",
   "metadata": {},
   "source": [
    "## Q6) A student can be enrolled in a class only if the class is not full and the class schedule does not conflict with her current schedule."
   ]
  },
  {
   "cell_type": "code",
   "execution_count": 41,
   "id": "e9f8cd65",
   "metadata": {
    "scrolled": true
   },
   "outputs": [],
   "source": [
    "is_full=False\n",
    "schedule_conflict=False"
   ]
  },
  {
   "cell_type": "code",
   "execution_count": 42,
   "id": "710cffb4",
   "metadata": {},
   "outputs": [
    {
     "data": {
      "text/plain": [
       "True"
      ]
     },
     "execution_count": 42,
     "metadata": {},
     "output_type": "execute_result"
    }
   ],
   "source": [
    "can_enroll=not schedule_conflict and not is_full\n",
    "can_enroll"
   ]
  },
  {
   "cell_type": "markdown",
   "id": "9f4c3b0e",
   "metadata": {},
   "source": [
    "## Q7) A product offer can be applied only if a customer buys more than 2 items, and the offer has not expired. Premium members do not need to buy a specific amount of products. "
   ]
  },
  {
   "cell_type": "code",
   "execution_count": 43,
   "id": "7b0a4c39",
   "metadata": {},
   "outputs": [],
   "source": [
    "buy_more_than_2= True\n",
    "offer_expired= True\n",
    "is_premium =True"
   ]
  },
  {
   "cell_type": "code",
   "execution_count": 44,
   "id": "4ea49b57",
   "metadata": {},
   "outputs": [
    {
     "data": {
      "text/plain": [
       "False"
      ]
     },
     "execution_count": 44,
     "metadata": {},
     "output_type": "execute_result"
    }
   ],
   "source": [
    "product_offer=(buy_more_than_2 or is_premium) and not offer_expired  ## (True or True) and not True\n",
    "product_offer"
   ]
  },
  {
   "cell_type": "markdown",
   "id": "979551e7",
   "metadata": {},
   "source": [
    "## Q8) Use the following code to follow the instructions below:\n",
    "\n",
    "\n",
    "username = 'codeup'\n",
    "\n",
    "password = 'notastrongpassword'\n",
    "\n",
    "Create a variable that holds a boolean value for each of the following \n",
    "\n",
    "conditions:\n",
    "\n",
    "The password must be at least 5 characters\n",
    "\n",
    "The username must be no more than 20 characters\n",
    "\n",
    "The password must not be the same as the username"
   ]
  },
  {
   "cell_type": "code",
   "execution_count": 45,
   "id": "f87671e5",
   "metadata": {},
   "outputs": [
    {
     "name": "stdout",
     "output_type": "stream",
     "text": [
      "Password is at least 5 characters: True\n",
      "Username is no more than 20 characters: True\n",
      "Password is different from the username: True\n"
     ]
    }
   ],
   "source": [
    "username='codeup'\n",
    "password= 'notastrongpassword'\n",
    "\n",
    "#conditions\n",
    "is_password_long_enough=len(password)>=5\n",
    "is_password_within_limit=len(password)<=20\n",
    "is_password_different_from_username=password != username\n",
    "\n",
    "\n",
    "# Testing the conditions\n",
    "print(\"Password is at least 5 characters:\", is_password_long_enough)\n",
    "print(\"Username is no more than 20 characters:\", is_password_within_limit)\n",
    "print(\"Password is different from the username:\", is_password_different_from_username)"
   ]
  },
  {
   "cell_type": "code",
   "execution_count": 46,
   "id": "c1669cce",
   "metadata": {},
   "outputs": [],
   "source": [
    "## or \n",
    "username='codeup'\n",
    "password='notastrongpassword'"
   ]
  },
  {
   "cell_type": "code",
   "execution_count": 47,
   "id": "d7d66fb2",
   "metadata": {},
   "outputs": [
    {
     "data": {
      "text/plain": [
       "True"
      ]
     },
     "execution_count": 47,
     "metadata": {},
     "output_type": "execute_result"
    }
   ],
   "source": [
    "len(password)>=5"
   ]
  },
  {
   "cell_type": "code",
   "execution_count": 48,
   "id": "1728fbe7",
   "metadata": {},
   "outputs": [
    {
     "data": {
      "text/plain": [
       "True"
      ]
     },
     "execution_count": 48,
     "metadata": {},
     "output_type": "execute_result"
    }
   ],
   "source": [
    "len(password)<=20"
   ]
  },
  {
   "cell_type": "code",
   "execution_count": 49,
   "id": "348ac6a7",
   "metadata": {},
   "outputs": [
    {
     "data": {
      "text/plain": [
       "True"
      ]
     },
     "execution_count": 49,
     "metadata": {},
     "output_type": "execute_result"
    }
   ],
   "source": [
    "password !=username"
   ]
  },
  {
   "cell_type": "markdown",
   "id": "fe3b7bf8",
   "metadata": {},
   "source": [
    "## BQ) Neither the username or password can start nor end with whitespace"
   ]
  },
  {
   "cell_type": "code",
   "execution_count": 50,
   "id": "7a5fdcd5",
   "metadata": {},
   "outputs": [],
   "source": [
    "no_whitespace_user=len(username)==len(username.strip())\n",
    "no_whitespace_pass=len(password)==len(password.strip())"
   ]
  },
  {
   "cell_type": "code",
   "execution_count": 51,
   "id": "13b2e8e3",
   "metadata": {},
   "outputs": [
    {
     "data": {
      "text/plain": [
       "True"
      ]
     },
     "execution_count": 51,
     "metadata": {},
     "output_type": "execute_result"
    }
   ],
   "source": [
    "no_whitespace_user"
   ]
  },
  {
   "cell_type": "code",
   "execution_count": 52,
   "id": "55ce47c4",
   "metadata": {},
   "outputs": [
    {
     "data": {
      "text/plain": [
       "True"
      ]
     },
     "execution_count": 52,
     "metadata": {},
     "output_type": "execute_result"
    }
   ],
   "source": [
    "no_whitespace_pass"
   ]
  },
  {
   "cell_type": "code",
   "execution_count": 53,
   "id": "0487fbd4",
   "metadata": {},
   "outputs": [],
   "source": [
    "## to understand only strip() function\n",
    "\n",
    "un=' codeup'\n",
    "\n"
   ]
  },
  {
   "cell_type": "code",
   "execution_count": 54,
   "id": "6a751027",
   "metadata": {},
   "outputs": [
    {
     "data": {
      "text/plain": [
       "7"
      ]
     },
     "execution_count": 54,
     "metadata": {},
     "output_type": "execute_result"
    }
   ],
   "source": [
    "len(un)"
   ]
  },
  {
   "cell_type": "code",
   "execution_count": 55,
   "id": "8bfca015",
   "metadata": {},
   "outputs": [
    {
     "data": {
      "text/plain": [
       "6"
      ]
     },
     "execution_count": 55,
     "metadata": {},
     "output_type": "execute_result"
    }
   ],
   "source": [
    "len(un.strip()) ## strip() doesnot count the space(s)"
   ]
  },
  {
   "cell_type": "code",
   "execution_count": null,
   "id": "dd81bef6",
   "metadata": {},
   "outputs": [],
   "source": []
  },
  {
   "cell_type": "code",
   "execution_count": null,
   "id": "f2d1a6ab",
   "metadata": {},
   "outputs": [],
   "source": []
  }
 ],
 "metadata": {
  "kernelspec": {
   "display_name": "Python 3 (ipykernel)",
   "language": "python",
   "name": "python3"
  },
  "language_info": {
   "codemirror_mode": {
    "name": "ipython",
    "version": 3
   },
   "file_extension": ".py",
   "mimetype": "text/x-python",
   "name": "python",
   "nbconvert_exporter": "python",
   "pygments_lexer": "ipython3",
   "version": "3.11.5"
  }
 },
 "nbformat": 4,
 "nbformat_minor": 5
}
