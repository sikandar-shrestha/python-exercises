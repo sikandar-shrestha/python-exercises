{
 "cells": [
  {
   "cell_type": "markdown",
   "id": "bdea95f6",
   "metadata": {},
   "source": [
    "Q1)Define a function named is_two. It should accept one input and return True if the passed input is either the number or the string 2, False otherwise.\n"
   ]
  },
  {
   "cell_type": "code",
   "execution_count": 1,
   "id": "16658d1d",
   "metadata": {},
   "outputs": [],
   "source": [
    "def is_two(x):\n",
    "    \"function accepts either no 2 or string 2\"\n",
    "    if x==2 or x=='2':\n",
    "        \n",
    "        return True\n",
    "    else:\n",
    "        \n",
    "        return False"
   ]
  },
  {
   "cell_type": "code",
   "execution_count": 2,
   "id": "3876cfe6",
   "metadata": {},
   "outputs": [
    {
     "data": {
      "text/plain": [
       "True"
      ]
     },
     "execution_count": 2,
     "metadata": {},
     "output_type": "execute_result"
    }
   ],
   "source": [
    "#example by function call\n",
    "\n",
    "\n",
    "is_two(2)\n"
   ]
  },
  {
   "cell_type": "code",
   "execution_count": 3,
   "id": "54a19364",
   "metadata": {},
   "outputs": [
    {
     "data": {
      "text/plain": [
       "False"
      ]
     },
     "execution_count": 3,
     "metadata": {},
     "output_type": "execute_result"
    }
   ],
   "source": [
    "is_two(3)"
   ]
  },
  {
   "cell_type": "code",
   "execution_count": null,
   "id": "fde06678",
   "metadata": {},
   "outputs": [],
   "source": [
    "is_two() ## to check \"shift+tab\""
   ]
  },
  {
   "cell_type": "code",
   "execution_count": null,
   "id": "4ea7b137",
   "metadata": {},
   "outputs": [],
   "source": [
    "is_two? ## to view docstrings"
   ]
  },
  {
   "cell_type": "markdown",
   "id": "9e635153",
   "metadata": {},
   "source": [
    "Q2)Define a function named is_vowel. It should return True if the passed string is a vowel, False otherwise."
   ]
  },
  {
   "cell_type": "code",
   "execution_count": 4,
   "id": "c38d4a60",
   "metadata": {},
   "outputs": [],
   "source": [
    "## 1st way\n",
    "def is_vowel(x):\n",
    "    if x in ['a','e','i','o','u']:\n",
    "        return True\n",
    "    else:\n",
    "        return False"
   ]
  },
  {
   "cell_type": "code",
   "execution_count": 5,
   "id": "c3562bbe",
   "metadata": {},
   "outputs": [
    {
     "data": {
      "text/plain": [
       "True"
      ]
     },
     "execution_count": 5,
     "metadata": {},
     "output_type": "execute_result"
    }
   ],
   "source": [
    "is_vowel('i')"
   ]
  },
  {
   "cell_type": "code",
   "execution_count": 6,
   "id": "fa1c9f21",
   "metadata": {},
   "outputs": [
    {
     "data": {
      "text/plain": [
       "False"
      ]
     },
     "execution_count": 6,
     "metadata": {},
     "output_type": "execute_result"
    }
   ],
   "source": [
    "is_vowel('b')"
   ]
  },
  {
   "cell_type": "code",
   "execution_count": 7,
   "id": "e03650c9",
   "metadata": {},
   "outputs": [],
   "source": [
    "## 2nd way\n",
    "def is_vowel(x):\n",
    "    vowels='AEIOUaeiou'\n",
    "    return x in vowels"
   ]
  },
  {
   "cell_type": "code",
   "execution_count": 8,
   "id": "fb8eb502",
   "metadata": {
    "scrolled": true
   },
   "outputs": [
    {
     "data": {
      "text/plain": [
       "True"
      ]
     },
     "execution_count": 8,
     "metadata": {},
     "output_type": "execute_result"
    }
   ],
   "source": [
    "is_vowel('a')"
   ]
  },
  {
   "cell_type": "code",
   "execution_count": 9,
   "id": "90c38dac",
   "metadata": {},
   "outputs": [
    {
     "data": {
      "text/plain": [
       "False"
      ]
     },
     "execution_count": 9,
     "metadata": {},
     "output_type": "execute_result"
    }
   ],
   "source": [
    "is_vowel('b')"
   ]
  },
  {
   "cell_type": "markdown",
   "id": "787e216a",
   "metadata": {},
   "source": [
    "Q3)Define a function named is_consonant. It should return True if the passed string is a consonant, False otherwise. Use your is_vowel function to accomplish this."
   ]
  },
  {
   "cell_type": "code",
   "execution_count": 10,
   "id": "08494f15",
   "metadata": {},
   "outputs": [],
   "source": [
    "def is_consonant(x):\n",
    "    \n",
    "    return not is_vowel(x)"
   ]
  },
  {
   "cell_type": "code",
   "execution_count": 11,
   "id": "cc4bd2e9",
   "metadata": {
    "scrolled": true
   },
   "outputs": [
    {
     "data": {
      "text/plain": [
       "True"
      ]
     },
     "execution_count": 11,
     "metadata": {},
     "output_type": "execute_result"
    }
   ],
   "source": [
    "is_consonant('b')"
   ]
  },
  {
   "cell_type": "code",
   "execution_count": 12,
   "id": "0e136d13",
   "metadata": {},
   "outputs": [
    {
     "data": {
      "text/plain": [
       "False"
      ]
     },
     "execution_count": 12,
     "metadata": {},
     "output_type": "execute_result"
    }
   ],
   "source": [
    "is_consonant('a')"
   ]
  },
  {
   "cell_type": "markdown",
   "id": "6fe3da45",
   "metadata": {},
   "source": [
    "Q4) Define a function that accepts a string that is a word. The function should capitalize the first letter of the word if the word starts with a consonant."
   ]
  },
  {
   "cell_type": "code",
   "execution_count": 13,
   "id": "fb83a16e",
   "metadata": {},
   "outputs": [],
   "source": [
    "def capital_word(word):\n",
    "    if is_consonant(word[0]):\n",
    "        return word.capitalize()\n",
    "    return word"
   ]
  },
  {
   "cell_type": "code",
   "execution_count": 14,
   "id": "53b85e50",
   "metadata": {},
   "outputs": [
    {
     "data": {
      "text/plain": [
       "'Codeup'"
      ]
     },
     "execution_count": 14,
     "metadata": {},
     "output_type": "execute_result"
    }
   ],
   "source": [
    "capital_word('codeup')"
   ]
  },
  {
   "cell_type": "code",
   "execution_count": 15,
   "id": "dae486be",
   "metadata": {},
   "outputs": [
    {
     "data": {
      "text/plain": [
       "'apple'"
      ]
     },
     "execution_count": 15,
     "metadata": {},
     "output_type": "execute_result"
    }
   ],
   "source": [
    "capital_word('apple')"
   ]
  },
  {
   "cell_type": "markdown",
   "id": "bdf52823",
   "metadata": {},
   "source": [
    "Q5)Define a function named calculate_tip. It should accept a tip percentage (a number between 0 and 1) and the bill total, and return the amount to tip."
   ]
  },
  {
   "cell_type": "code",
   "execution_count": 16,
   "id": "790db703",
   "metadata": {},
   "outputs": [],
   "source": [
    "def calculate_tip(tip_percent,bill): # tip_percent & bill are parameters\n",
    "    if 0<=tip_percent<=1:\n",
    "        tip_amount=tip_percent*bill\n",
    "        return tip_amount\n",
    "    else:\n",
    "        return \"Invalid tip %\"\n",
    "    "
   ]
  },
  {
   "cell_type": "code",
   "execution_count": 17,
   "id": "8ea22b3f",
   "metadata": {
    "scrolled": true
   },
   "outputs": [
    {
     "data": {
      "text/plain": [
       "7.800000000000001"
      ]
     },
     "execution_count": 17,
     "metadata": {},
     "output_type": "execute_result"
    }
   ],
   "source": [
    "calculate_tip(0.39,20)"
   ]
  },
  {
   "cell_type": "code",
   "execution_count": 18,
   "id": "5d99eb70",
   "metadata": {},
   "outputs": [
    {
     "data": {
      "text/plain": [
       "'Invalid tip %'"
      ]
     },
     "execution_count": 18,
     "metadata": {},
     "output_type": "execute_result"
    }
   ],
   "source": [
    "calculate_tip(1.5,20)"
   ]
  },
  {
   "cell_type": "markdown",
   "id": "e7916b31",
   "metadata": {},
   "source": [
    "Q6) Define a function named apply_discount. It should accept a original price, and a discount percentage, and return the price after the discount is applied."
   ]
  },
  {
   "cell_type": "code",
   "execution_count": 19,
   "id": "444c1a7b",
   "metadata": {},
   "outputs": [],
   "source": [
    "def apply_discount(price,discount_percent):\n",
    "    if 0<=discount_percent<1:\n",
    "        discount=discount_percent*price\n",
    "        price=price-discount\n",
    "        return price\n",
    "    else:\n",
    "        return 'Invalid discount %'\n",
    "    "
   ]
  },
  {
   "cell_type": "code",
   "execution_count": 20,
   "id": "8d6271c6",
   "metadata": {},
   "outputs": [
    {
     "data": {
      "text/plain": [
       "19.0"
      ]
     },
     "execution_count": 20,
     "metadata": {},
     "output_type": "execute_result"
    }
   ],
   "source": [
    "apply_discount(20,0.05)"
   ]
  },
  {
   "cell_type": "code",
   "execution_count": 21,
   "id": "947432bd",
   "metadata": {},
   "outputs": [
    {
     "data": {
      "text/plain": [
       "'Invalid discount %'"
      ]
     },
     "execution_count": 21,
     "metadata": {},
     "output_type": "execute_result"
    }
   ],
   "source": [
    "apply_discount(20,1.5)"
   ]
  },
  {
   "cell_type": "markdown",
   "id": "00cdb794",
   "metadata": {},
   "source": [
    "Q7) Define a function named handle_commas. It should accept a string that is a number that contains commas in it as input, and return a number as output.\n"
   ]
  },
  {
   "cell_type": "code",
   "execution_count": 22,
   "id": "1274e9be",
   "metadata": {},
   "outputs": [],
   "source": [
    "def handle_commas(string):\n",
    "    return float(string.replace(\",\",\"\"))"
   ]
  },
  {
   "cell_type": "code",
   "execution_count": 23,
   "id": "4f1d1eb2",
   "metadata": {},
   "outputs": [
    {
     "data": {
      "text/plain": [
       "20000.0"
      ]
     },
     "execution_count": 23,
     "metadata": {},
     "output_type": "execute_result"
    }
   ],
   "source": [
    "handle_commas('20,000')"
   ]
  },
  {
   "cell_type": "markdown",
   "id": "25defc62",
   "metadata": {},
   "source": [
    "Q8) Define a function named get_letter_grade. It should accept a number and return the letter grade associated with that number (A-F)."
   ]
  },
  {
   "cell_type": "code",
   "execution_count": 24,
   "id": "05a1af8c",
   "metadata": {},
   "outputs": [],
   "source": [
    "def get_letter_grade(num):\n",
    "    if num>=90:\n",
    "        return \"A\"\n",
    "    elif num>=80:\n",
    "        return \"B\"\n",
    "    elif num>=70:\n",
    "        return \"C\"\n",
    "    elif num>=60:\n",
    "        return \"D\"\n",
    "    else:\n",
    "        return \"F\""
   ]
  },
  {
   "cell_type": "code",
   "execution_count": 25,
   "id": "80871609",
   "metadata": {},
   "outputs": [
    {
     "data": {
      "text/plain": [
       "'F'"
      ]
     },
     "execution_count": 25,
     "metadata": {},
     "output_type": "execute_result"
    }
   ],
   "source": [
    "get_letter_grade(55)"
   ]
  },
  {
   "cell_type": "code",
   "execution_count": 26,
   "id": "056b99aa",
   "metadata": {},
   "outputs": [
    {
     "data": {
      "text/plain": [
       "'A'"
      ]
     },
     "execution_count": 26,
     "metadata": {},
     "output_type": "execute_result"
    }
   ],
   "source": [
    "get_letter_grade(99)"
   ]
  },
  {
   "cell_type": "markdown",
   "id": "80e27498",
   "metadata": {},
   "source": [
    "Q9) Define a function named remove_vowels that accepts a string and returns a string with all the vowels removed."
   ]
  },
  {
   "cell_type": "code",
   "execution_count": 27,
   "id": "d5cd5b27",
   "metadata": {},
   "outputs": [],
   "source": [
    "def remove_vowels(string):\n",
    "    new_string=\" \"\n",
    "    \n",
    "    for x in string:\n",
    "        if x not in \"AEIOUaeiou\":\n",
    "            new_string +=x\n",
    "        \n",
    "        else:\n",
    "            pass\n",
    "    return new_string\n",
    "            "
   ]
  },
  {
   "cell_type": "code",
   "execution_count": 28,
   "id": "16f4995f",
   "metadata": {},
   "outputs": [
    {
     "data": {
      "text/plain": [
       "' hll'"
      ]
     },
     "execution_count": 28,
     "metadata": {},
     "output_type": "execute_result"
    }
   ],
   "source": [
    "remove_vowels(\"hello\")"
   ]
  },
  {
   "cell_type": "markdown",
   "id": "533973e9",
   "metadata": {},
   "source": [
    "Q10) Define a function named normalize_name. It should accept a string and return a valid python identifier, that is:\n",
    "\n",
    "- anything that is not a valid python identifier should be removed\n",
    "- leading and trailing whitespace should be removed\n",
    "- everything should be lowercase\n",
    "- spaces should be replaced with underscores\n",
    "- for example:\n",
    "        \n",
    "        - Name will become name\n",
    "        \n",
    "        - First Name will become first_name\n",
    "        \n",
    "        - % Completed will become completed"
   ]
  },
  {
   "cell_type": "code",
   "execution_count": 29,
   "id": "9c2168ad",
   "metadata": {},
   "outputs": [],
   "source": [
    "def normalize_name(string):\n",
    "    string = string.strip()\n",
    "    for x in string:\n",
    "        if not x.isalnum():\n",
    "            if x != \" \":\n",
    "                string = string.replace(x,'')\n",
    "                string = string.strip()\n",
    "                \n",
    "            else:\n",
    "                string = string.replace(x,\"_\")\n",
    "        else:\n",
    "            pass\n",
    "    return string.lower()\n",
    "\n",
    "\n",
    "\n",
    "    "
   ]
  },
  {
   "cell_type": "code",
   "execution_count": 30,
   "id": "8af3a3ac",
   "metadata": {},
   "outputs": [
    {
     "data": {
      "text/plain": [
       "'name'"
      ]
     },
     "execution_count": 30,
     "metadata": {},
     "output_type": "execute_result"
    }
   ],
   "source": [
    "normalize_name(\"Name\")"
   ]
  },
  {
   "cell_type": "code",
   "execution_count": 31,
   "id": "79f3dd1f",
   "metadata": {},
   "outputs": [
    {
     "data": {
      "text/plain": [
       "'first_name'"
      ]
     },
     "execution_count": 31,
     "metadata": {},
     "output_type": "execute_result"
    }
   ],
   "source": [
    "normalize_name(\"first name\")"
   ]
  },
  {
   "cell_type": "code",
   "execution_count": 32,
   "id": "9b1c9dcd",
   "metadata": {
    "scrolled": true
   },
   "outputs": [
    {
     "data": {
      "text/plain": [
       "'completed'"
      ]
     },
     "execution_count": 32,
     "metadata": {},
     "output_type": "execute_result"
    }
   ],
   "source": [
    "normalize_name(\"% Completed\")"
   ]
  },
  {
   "cell_type": "code",
   "execution_count": 33,
   "id": "50aa1704",
   "metadata": {},
   "outputs": [],
   "source": [
    "## 2nd way\n",
    "def normalize_name(string):\n",
    "    string=string.lower()\n",
    "    string=string.strip()\n",
    "    string=string.replace(\" \",\"_\")\n",
    "    for x in string:\n",
    "        if not x.isalnum():\n",
    "            if x!=\"\":\n",
    "                string=string.replace(x,'')\n",
    "                string=string.strip()\n",
    "            else:\n",
    "                string = string.replace(x,\"_\")\n",
    "        else:\n",
    "            pass\n",
    "    return string"
   ]
  },
  {
   "cell_type": "code",
   "execution_count": 34,
   "id": "cc420aab",
   "metadata": {},
   "outputs": [
    {
     "data": {
      "text/plain": [
       "'kcha'"
      ]
     },
     "execution_count": 34,
     "metadata": {},
     "output_type": "execute_result"
    }
   ],
   "source": [
    "normalize_name('& $ k cHA')"
   ]
  },
  {
   "cell_type": "code",
   "execution_count": 35,
   "id": "ad4a3545",
   "metadata": {},
   "outputs": [
    {
     "data": {
      "text/plain": [
       "'firstname'"
      ]
     },
     "execution_count": 35,
     "metadata": {},
     "output_type": "execute_result"
    }
   ],
   "source": [
    "normalize_name(\"First_Name\")"
   ]
  },
  {
   "cell_type": "code",
   "execution_count": 36,
   "id": "eaa3fb7d",
   "metadata": {},
   "outputs": [
    {
     "data": {
      "text/plain": [
       "'completed'"
      ]
     },
     "execution_count": 36,
     "metadata": {},
     "output_type": "execute_result"
    }
   ],
   "source": [
    "normalize_name(\"% Completed\")"
   ]
  },
  {
   "cell_type": "markdown",
   "id": "c979ec2e",
   "metadata": {},
   "source": [
    "Q11) Write a function named cumulative_sum that accepts a list of numbers and returns a list that is the cumulative sum of the numbers in the list.\n",
    "\n",
    "        -cumulative_sum([1, 1, 1]) returns [1, 2, 3]\n",
    "        -cumulative_sum([1, 2, 3, 4]) returns [1, 3, 6, 10]\n"
   ]
  },
  {
   "cell_type": "code",
   "execution_count": 37,
   "id": "6d5f506b",
   "metadata": {},
   "outputs": [],
   "source": [
    "def cumulative_sum(num):\n",
    "    for x in range(len(num)):\n",
    "        if x !=0:\n",
    "            num[x]=num[x]+num[x-1]\n",
    "    return num"
   ]
  },
  {
   "cell_type": "code",
   "execution_count": 38,
   "id": "c4c08088",
   "metadata": {},
   "outputs": [
    {
     "data": {
      "text/plain": [
       "[1, 2, 3]"
      ]
     },
     "execution_count": 38,
     "metadata": {},
     "output_type": "execute_result"
    }
   ],
   "source": [
    "cumulative_sum([1, 1, 1])"
   ]
  },
  {
   "cell_type": "code",
   "execution_count": 39,
   "id": "89f51466",
   "metadata": {},
   "outputs": [
    {
     "data": {
      "text/plain": [
       "[1, 3, 6, 10]"
      ]
     },
     "execution_count": 39,
     "metadata": {},
     "output_type": "execute_result"
    }
   ],
   "source": [
    "cumulative_sum([1, 2, 3, 4])"
   ]
  },
  {
   "cell_type": "code",
   "execution_count": null,
   "id": "92cafaea",
   "metadata": {},
   "outputs": [],
   "source": []
  },
  {
   "cell_type": "code",
   "execution_count": null,
   "id": "da5cb22d",
   "metadata": {},
   "outputs": [],
   "source": []
  },
  {
   "cell_type": "code",
   "execution_count": null,
   "id": "235a4ad8",
   "metadata": {},
   "outputs": [],
   "source": []
  },
  {
   "cell_type": "code",
   "execution_count": null,
   "id": "89068716",
   "metadata": {},
   "outputs": [],
   "source": [
    "#remark for understanding function with loop\n",
    "'''\n",
    "def is_alplha(string):\n",
    "    new_string=''\n",
    "    for letter in string:\n",
    "        if letter.isalpha(): # to check for letters\n",
    "            new_strin +=letter\n",
    "        else:\n",
    "            pass\n",
    "    return new_string\n",
    "'''"
   ]
  },
  {
   "cell_type": "code",
   "execution_count": null,
   "id": "5d5f3394",
   "metadata": {},
   "outputs": [],
   "source": []
  },
  {
   "cell_type": "code",
   "execution_count": null,
   "id": "c884911b",
   "metadata": {},
   "outputs": [],
   "source": []
  },
  {
   "cell_type": "code",
   "execution_count": null,
   "id": "eb98d115",
   "metadata": {},
   "outputs": [],
   "source": []
  },
  {
   "cell_type": "code",
   "execution_count": null,
   "id": "82649b95",
   "metadata": {},
   "outputs": [],
   "source": []
  },
  {
   "cell_type": "code",
   "execution_count": null,
   "id": "91f4ed35",
   "metadata": {},
   "outputs": [],
   "source": []
  },
  {
   "cell_type": "code",
   "execution_count": null,
   "id": "7d1474e3",
   "metadata": {},
   "outputs": [],
   "source": []
  }
 ],
 "metadata": {
  "kernelspec": {
   "display_name": "Python 3 (ipykernel)",
   "language": "python",
   "name": "python3"
  },
  "language_info": {
   "codemirror_mode": {
    "name": "ipython",
    "version": 3
   },
   "file_extension": ".py",
   "mimetype": "text/x-python",
   "name": "python",
   "nbconvert_exporter": "python",
   "pygments_lexer": "ipython3",
   "version": "3.11.5"
  }
 },
 "nbformat": 4,
 "nbformat_minor": 5
}
