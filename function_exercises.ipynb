{
 "cells": [
  {
   "cell_type": "markdown",
   "id": "bdea95f6",
   "metadata": {},
   "source": [
    "Q1)Define a function named is_two. It should accept one input and return True if the passed input is either the number or the string 2, False otherwise.\n"
   ]
  },
  {
   "cell_type": "code",
   "execution_count": null,
   "id": "16658d1d",
   "metadata": {},
   "outputs": [],
   "source": [
    "def is_two(x):\n",
    "    \"function accepts either no 2 or string 2\"\n",
    "    if x==2 or x=='2':\n",
    "        \n",
    "        return True\n",
    "    else:\n",
    "        \n",
    "        return False"
   ]
  },
  {
   "cell_type": "code",
   "execution_count": null,
   "id": "3876cfe6",
   "metadata": {},
   "outputs": [],
   "source": [
    "#example by function call\n",
    "\n",
    "\n",
    "is_two(2)\n"
   ]
  },
  {
   "cell_type": "code",
   "execution_count": null,
   "id": "54a19364",
   "metadata": {},
   "outputs": [],
   "source": [
    "is_two(3)"
   ]
  },
  {
   "cell_type": "code",
   "execution_count": null,
   "id": "fde06678",
   "metadata": {},
   "outputs": [],
   "source": [
    "is_two() ## to check \"shift+tab\""
   ]
  },
  {
   "cell_type": "code",
   "execution_count": null,
   "id": "4ea7b137",
   "metadata": {},
   "outputs": [],
   "source": [
    "is_two? ## to view docstrings"
   ]
  },
  {
   "cell_type": "code",
   "execution_count": null,
   "id": "fef4b611",
   "metadata": {},
   "outputs": [],
   "source": [
    "## Another way\n",
    "def is_two(num):\n",
    "    if num in (2,'2',2.0):\n",
    "        return True\n",
    "    else: \n",
    "        return False\n"
   ]
  },
  {
   "cell_type": "code",
   "execution_count": null,
   "id": "81e8717c",
   "metadata": {},
   "outputs": [],
   "source": [
    "assert is_two(2) == True\n",
    "assert is_two('2') == True\n",
    "assert is_two(2.0) == True\n",
    "assert is_two('two') == False"
   ]
  },
  {
   "cell_type": "markdown",
   "id": "9e635153",
   "metadata": {},
   "source": [
    "Q2)Define a function named is_vowel. It should return True if the passed string is a vowel, False otherwise."
   ]
  },
  {
   "cell_type": "code",
   "execution_count": null,
   "id": "c38d4a60",
   "metadata": {},
   "outputs": [],
   "source": [
    "## 1st way\n",
    "def is_vowel(x):\n",
    "    if x in ['a','e','i','o','u']:\n",
    "        return True\n",
    "    else:\n",
    "        return False"
   ]
  },
  {
   "cell_type": "code",
   "execution_count": null,
   "id": "c3562bbe",
   "metadata": {},
   "outputs": [],
   "source": [
    "is_vowel('i')"
   ]
  },
  {
   "cell_type": "code",
   "execution_count": null,
   "id": "fa1c9f21",
   "metadata": {},
   "outputs": [],
   "source": [
    "is_vowel('b')"
   ]
  },
  {
   "cell_type": "code",
   "execution_count": null,
   "id": "e03650c9",
   "metadata": {},
   "outputs": [],
   "source": [
    "## 2nd way\n",
    "def is_vowel(x):\n",
    "    vowels='AEIOUaeiou'\n",
    "    return x in vowels"
   ]
  },
  {
   "cell_type": "code",
   "execution_count": null,
   "id": "fb8eb502",
   "metadata": {
    "scrolled": true
   },
   "outputs": [],
   "source": [
    "is_vowel('a')"
   ]
  },
  {
   "cell_type": "code",
   "execution_count": null,
   "id": "90c38dac",
   "metadata": {},
   "outputs": [],
   "source": [
    "is_vowel('b')"
   ]
  },
  {
   "cell_type": "code",
   "execution_count": null,
   "id": "49260566",
   "metadata": {},
   "outputs": [],
   "source": [
    "is_vowel('wwwak')"
   ]
  },
  {
   "cell_type": "code",
   "execution_count": null,
   "id": "ae4a300e",
   "metadata": {},
   "outputs": [],
   "source": [
    "# 3rd way:\n",
    "def is_vowel(somestring):\n",
    "    #check that the arg is a str\n",
    "    if type(somestring) == str:\n",
    "        \n",
    "        # if the str is 1 char and a letter\n",
    "        '''\n",
    "        isalpha() method returns True if all the characters \n",
    "        are alphabet letters(a-z)\n",
    "        \n",
    "        '''\n",
    "        if len(somestring) == 1 and somestring.isalpha():\n",
    "            \n",
    "            #return bool ans to: lower-letter in vowel list?\n",
    "            return somestring.lower() in list('aeiou')\n",
    "        \n",
    "        #return false if string fails 1 alpha-char length\n",
    "        else:\n",
    "            return False\n",
    "        \n",
    "    # returns false if input is not a str    \n",
    "    else:\n",
    "        return False\n",
    "        \n"
   ]
  },
  {
   "cell_type": "code",
   "execution_count": null,
   "id": "9fc74f64",
   "metadata": {},
   "outputs": [],
   "source": [
    "is_vowel('yyy')"
   ]
  },
  {
   "cell_type": "code",
   "execution_count": null,
   "id": "2ec91ff3",
   "metadata": {},
   "outputs": [],
   "source": [
    "is_vowel('u')"
   ]
  },
  {
   "cell_type": "code",
   "execution_count": null,
   "id": "3e25e730",
   "metadata": {},
   "outputs": [],
   "source": [
    "is_vowel('a')"
   ]
  },
  {
   "cell_type": "markdown",
   "id": "787e216a",
   "metadata": {},
   "source": [
    "Q3)Define a function named is_consonant. It should return True if the passed string is a consonant, False otherwise. Use your is_vowel function to accomplish this."
   ]
  },
  {
   "cell_type": "code",
   "execution_count": null,
   "id": "08494f15",
   "metadata": {},
   "outputs": [],
   "source": [
    "def is_consonant(x):\n",
    "    \n",
    "    return not is_vowel(x)"
   ]
  },
  {
   "cell_type": "code",
   "execution_count": null,
   "id": "cc4bd2e9",
   "metadata": {
    "scrolled": true
   },
   "outputs": [],
   "source": [
    "is_consonant('b')"
   ]
  },
  {
   "cell_type": "code",
   "execution_count": null,
   "id": "0e136d13",
   "metadata": {},
   "outputs": [],
   "source": [
    "is_consonant('a')"
   ]
  },
  {
   "cell_type": "code",
   "execution_count": null,
   "id": "a1614b07",
   "metadata": {},
   "outputs": [],
   "source": [
    "## 2nd way\n",
    "def is_consonant(somestring):\n",
    "    \"\"\"\n",
    "    This function will:\n",
    "    - intially check the input is a string\n",
    "        - and 1 char long\n",
    "        - and a letter\n",
    "            -if true, returns the opposite return of is_vowel, using the NOT operator\n",
    "            - False otherwise\n",
    "    -returns False if not a string\n",
    "    \"\"\"\n",
    "    if type(somestring) == str:\n",
    "        if len(somestring) == 1 and somestring.isalpha():\n",
    "            return (not is_vowel(somestring))\n",
    "        else:\n",
    "            return False\n",
    "    else: \n",
    "        return False\n",
    "            \n"
   ]
  },
  {
   "cell_type": "code",
   "execution_count": null,
   "id": "338062be",
   "metadata": {
    "scrolled": true
   },
   "outputs": [],
   "source": [
    "is_consonant('b')"
   ]
  },
  {
   "cell_type": "code",
   "execution_count": null,
   "id": "93a3fb67",
   "metadata": {},
   "outputs": [],
   "source": [
    "is_consonant('e')"
   ]
  },
  {
   "cell_type": "markdown",
   "id": "6fe3da45",
   "metadata": {},
   "source": [
    "Q4) Define a function that accepts a string that is a word. The function should capitalize the first letter of the word if the word starts with a consonant."
   ]
  },
  {
   "cell_type": "code",
   "execution_count": null,
   "id": "fb83a16e",
   "metadata": {},
   "outputs": [],
   "source": [
    "def capital_word(word):\n",
    "    if is_consonant(word[0]):\n",
    "        return word.capitalize()\n",
    "    return word"
   ]
  },
  {
   "cell_type": "code",
   "execution_count": null,
   "id": "53b85e50",
   "metadata": {},
   "outputs": [],
   "source": [
    "capital_word('codeup')"
   ]
  },
  {
   "cell_type": "code",
   "execution_count": null,
   "id": "dae486be",
   "metadata": {},
   "outputs": [],
   "source": [
    "capital_word('apple')"
   ]
  },
  {
   "cell_type": "code",
   "execution_count": null,
   "id": "05e48348",
   "metadata": {},
   "outputs": [],
   "source": [
    "# Another way\n",
    "def capitalize_starting_consonant(word):\n",
    "    \"\"\"\n",
    "    This function will initially check if:\n",
    "    - input is a str\n",
    "        - checks if 1st char of the input is a consonant\n",
    "            - if True, returns the inputted string w/1st char Capitalized\n",
    "            - False otherwise\n",
    "        - returns False if not a string\n",
    "    \"\"\"\n",
    "    if type(word) == str:\n",
    "        if is_consonant(word[0]):\n",
    "            return word.capitalize()\n",
    "        else:\n",
    "            return f\"{word} doesn't start with a consonant.\"\n",
    "    else:\n",
    "        return f\"{word} isn't a string.\"\n"
   ]
  },
  {
   "cell_type": "markdown",
   "id": "bdf52823",
   "metadata": {},
   "source": [
    "Q5)Define a function named calculate_tip. It should accept a tip percentage (a number between 0 and 1) and the bill total, and return the amount to tip."
   ]
  },
  {
   "cell_type": "code",
   "execution_count": null,
   "id": "790db703",
   "metadata": {},
   "outputs": [],
   "source": [
    "def calculate_tip(tip_percent,bill): # tip_percent & bill are parameters\n",
    "    if 0<=tip_percent<=1:\n",
    "        tip_amount=tip_percent*bill\n",
    "        return tip_amount\n",
    "    else:\n",
    "        return \"Invalid tip %\"\n",
    "    "
   ]
  },
  {
   "cell_type": "code",
   "execution_count": null,
   "id": "8ea22b3f",
   "metadata": {
    "scrolled": true
   },
   "outputs": [],
   "source": [
    "calculate_tip(0.39,20)"
   ]
  },
  {
   "cell_type": "code",
   "execution_count": null,
   "id": "5d99eb70",
   "metadata": {},
   "outputs": [],
   "source": [
    "calculate_tip(1.5,20)"
   ]
  },
  {
   "cell_type": "markdown",
   "id": "e7916b31",
   "metadata": {},
   "source": [
    "Q6) Define a function named apply_discount. It should accept a original price, and a discount percentage, and return the price after the discount is applied."
   ]
  },
  {
   "cell_type": "code",
   "execution_count": null,
   "id": "444c1a7b",
   "metadata": {},
   "outputs": [],
   "source": [
    "def apply_discount(price,discount_percent):\n",
    "    if 0<=discount_percent<1:\n",
    "        discount=discount_percent*price\n",
    "        price=price-discount\n",
    "        return price\n",
    "    else:\n",
    "        return 'Invalid discount %'\n",
    "    "
   ]
  },
  {
   "cell_type": "code",
   "execution_count": null,
   "id": "8d6271c6",
   "metadata": {},
   "outputs": [],
   "source": [
    "apply_discount(20,0.05)"
   ]
  },
  {
   "cell_type": "code",
   "execution_count": null,
   "id": "947432bd",
   "metadata": {},
   "outputs": [],
   "source": [
    "apply_discount(20,1.5)"
   ]
  },
  {
   "cell_type": "code",
   "execution_count": null,
   "id": "c4fac53e",
   "metadata": {},
   "outputs": [],
   "source": [
    "## Another way\n",
    "\n",
    "def apply_discount(orig_price, discount_pct):\n",
    "    return (1 - discount_pct)* orig_price"
   ]
  },
  {
   "cell_type": "markdown",
   "id": "00cdb794",
   "metadata": {},
   "source": [
    "Q7) Define a function named handle_commas. It should accept a string that is a number that contains commas in it as input, and return a number as output.\n"
   ]
  },
  {
   "cell_type": "code",
   "execution_count": 1,
   "id": "1274e9be",
   "metadata": {},
   "outputs": [],
   "source": [
    "def handle_commas(string):\n",
    "    return float(string.replace(\",\",\"\"))"
   ]
  },
  {
   "cell_type": "code",
   "execution_count": 2,
   "id": "8d9ce55f",
   "metadata": {},
   "outputs": [
    {
     "data": {
      "text/plain": [
       "20.34"
      ]
     },
     "execution_count": 2,
     "metadata": {},
     "output_type": "execute_result"
    }
   ],
   "source": [
    "handle_commas('2,0.34')"
   ]
  },
  {
   "cell_type": "code",
   "execution_count": null,
   "id": "4f1d1eb2",
   "metadata": {},
   "outputs": [],
   "source": [
    "handle_commas('20,000')"
   ]
  },
  {
   "cell_type": "code",
   "execution_count": null,
   "id": "bff1c4a0",
   "metadata": {},
   "outputs": [],
   "source": [
    "## Another way\n",
    "def handle_commas(fakenum):\n",
    "    \"\"\"\n",
    "    This function will:\n",
    "    - check if input is a string\n",
    "        -removes any commas\n",
    "        -check if the stripped input is a digit\n",
    "            - if True, returns input as an integer\n",
    "            -False otherwise\n",
    "    - if not a string, returns false stmt\n",
    "    \"\"\"\n",
    "    if type(fakenum) == str:\n",
    "        stripfakenum = fakenum.replace(\",\", \"\")\n",
    "        if stripfakenum.isdigit():\n",
    "            return int(stripfakenum)\n",
    "        else:\n",
    "            return False\n",
    "    else:\n",
    "        return False\n",
    "    \n",
    "\n"
   ]
  },
  {
   "cell_type": "markdown",
   "id": "25defc62",
   "metadata": {},
   "source": [
    "Q8) Define a function named get_letter_grade. It should accept a number and return the letter grade associated with that number (A-F)."
   ]
  },
  {
   "cell_type": "code",
   "execution_count": null,
   "id": "05a1af8c",
   "metadata": {},
   "outputs": [],
   "source": [
    "def get_letter_grade(num):\n",
    "    if num>=90:\n",
    "        return \"A\"\n",
    "    elif num>=80:\n",
    "        return \"B\"\n",
    "    elif num>=70:\n",
    "        return \"C\"\n",
    "    elif num>=60:\n",
    "        return \"D\"\n",
    "    else:\n",
    "        return \"F\""
   ]
  },
  {
   "cell_type": "code",
   "execution_count": null,
   "id": "80871609",
   "metadata": {},
   "outputs": [],
   "source": [
    "get_letter_grade(55)"
   ]
  },
  {
   "cell_type": "code",
   "execution_count": null,
   "id": "056b99aa",
   "metadata": {},
   "outputs": [],
   "source": [
    "get_letter_grade(99)"
   ]
  },
  {
   "cell_type": "code",
   "execution_count": null,
   "id": "0062b7dc",
   "metadata": {},
   "outputs": [],
   "source": [
    "## Another way\n",
    "def get_letter_grade(somegrade):\n",
    "    if type(somegrade) == int:\n",
    "        if somegrade >= 90:\n",
    "            return 'A'\n",
    "        elif somegrade >= 80:\n",
    "            return 'B'\n",
    "        elif somegrade >= 70:\n",
    "            return 'C'\n",
    "        elif somegrade >= 60:\n",
    "            return 'D'\n",
    "        else: return 'F'\n",
    "    else:\n",
    "        return f\"{somegrade} is not a digit.\"\n",
    "        \n"
   ]
  },
  {
   "cell_type": "markdown",
   "id": "80e27498",
   "metadata": {},
   "source": [
    "Q9) Define a function named remove_vowels that accepts a string and returns a string with all the vowels removed."
   ]
  },
  {
   "cell_type": "code",
   "execution_count": null,
   "id": "d5cd5b27",
   "metadata": {},
   "outputs": [],
   "source": [
    "def remove_vowels(string):\n",
    "    new_string=\" \"\n",
    "    \n",
    "    for x in string:\n",
    "        if x not in \"AEIOUaeiou\":\n",
    "            new_string +=x\n",
    "        \n",
    "        else:\n",
    "            pass\n",
    "    return new_string\n",
    "            "
   ]
  },
  {
   "cell_type": "code",
   "execution_count": null,
   "id": "16f4995f",
   "metadata": {},
   "outputs": [],
   "source": [
    "remove_vowels(\"hello\")"
   ]
  },
  {
   "cell_type": "code",
   "execution_count": null,
   "id": "0bed1910",
   "metadata": {},
   "outputs": [],
   "source": [
    "## Another way\n",
    "# adding to remove\n",
    "def remove_vowels(word):\n",
    "    # empty string for items to keep\n",
    "    new_word = \"\"\n",
    "    \n",
    "    # loop iteration over word \n",
    "    for letter in word:\n",
    "        \n",
    "        # conditional check for whether letter in word is not a vowel. \n",
    "        \n",
    "        if not is_vowel(letter):\n",
    "        # if not in list('aeiou'): # alternative way\n",
    "            \n",
    "            # If so, add to empty string\n",
    "            new_word += letter\n",
    "            \n",
    "    # return concatenated empty string\n",
    "    return new_word"
   ]
  },
  {
   "cell_type": "markdown",
   "id": "533973e9",
   "metadata": {},
   "source": [
    "Q10) Define a function named normalize_name. It should accept a string and return a valid python identifier, that is:\n",
    "\n",
    "- anything that is not a valid python identifier should be removed\n",
    "- leading and trailing whitespace should be removed\n",
    "- everything should be lowercase\n",
    "- spaces should be replaced with underscores\n",
    "- for example:\n",
    "        \n",
    "        - Name will become name\n",
    "        \n",
    "        - First Name will become first_name\n",
    "        \n",
    "        - % Completed will become completed"
   ]
  },
  {
   "cell_type": "code",
   "execution_count": null,
   "id": "9c2168ad",
   "metadata": {},
   "outputs": [],
   "source": [
    "def normalize_name(string):\n",
    "    string = string.strip()\n",
    "    for x in string:\n",
    "        if not x.isalnum():\n",
    "            if x != \" \":\n",
    "                string = string.replace(x,'')\n",
    "                string = string.strip()\n",
    "                \n",
    "            else:\n",
    "                string = string.replace(x,\"_\")\n",
    "        else:\n",
    "            pass\n",
    "    return string.lower()\n",
    "\n",
    "\n",
    "\n",
    "    "
   ]
  },
  {
   "cell_type": "code",
   "execution_count": null,
   "id": "8af3a3ac",
   "metadata": {},
   "outputs": [],
   "source": [
    "normalize_name(\"Name\")"
   ]
  },
  {
   "cell_type": "code",
   "execution_count": null,
   "id": "79f3dd1f",
   "metadata": {},
   "outputs": [],
   "source": [
    "normalize_name(\"first name\")"
   ]
  },
  {
   "cell_type": "code",
   "execution_count": null,
   "id": "9b1c9dcd",
   "metadata": {
    "scrolled": true
   },
   "outputs": [],
   "source": [
    "normalize_name(\"% Completed\")"
   ]
  },
  {
   "cell_type": "code",
   "execution_count": null,
   "id": "50aa1704",
   "metadata": {},
   "outputs": [],
   "source": [
    "## 2nd way\n",
    "def normalize_name(string):\n",
    "    string=string.lower()\n",
    "    string=string.strip()\n",
    "    string=string.replace(\" \",\"_\")\n",
    "    for x in string:\n",
    "        if not x.isalnum():\n",
    "            if x!=\"\":\n",
    "                string=string.replace(x,'')\n",
    "                string=string.strip()\n",
    "            else:\n",
    "                string = string.replace(x,\"_\")\n",
    "        else:\n",
    "            pass\n",
    "    return string"
   ]
  },
  {
   "cell_type": "code",
   "execution_count": null,
   "id": "cc420aab",
   "metadata": {},
   "outputs": [],
   "source": [
    "normalize_name('& $ k cHA')"
   ]
  },
  {
   "cell_type": "code",
   "execution_count": null,
   "id": "ad4a3545",
   "metadata": {},
   "outputs": [],
   "source": [
    "normalize_name(\"First_Name\")"
   ]
  },
  {
   "cell_type": "code",
   "execution_count": null,
   "id": "eaa3fb7d",
   "metadata": {},
   "outputs": [],
   "source": [
    "normalize_name(\"% Completed\")"
   ]
  },
  {
   "cell_type": "code",
   "execution_count": null,
   "id": "52660a18",
   "metadata": {},
   "outputs": [],
   "source": [
    "## 3rd way\n",
    "'''\n",
    "Valid Python Identifiers\n",
    "An identifier can only contain letters, digits, and underscores, and cannot start with a digit\n",
    "\n",
    "- empty string to to append to \n",
    "- check if first letter starts with a digit\n",
    "    - for letter in string:\n",
    "        - check if string is a letter, digit, or underscore\n",
    "            - remove leading & trailing whitespace\n",
    "            - replace space in string with underscore\n",
    "            \n",
    "returns normlaized string\n",
    "\n",
    "'''\n",
    "\n",
    "def normalize_name(somestr):\n",
    "    # empty string to concatenate to\n",
    "    new_string = ''\n",
    "    \n",
    "    # strip whitespace first else problems and lower case string as asked\n",
    "    somestr = somestr.strip().lower()\n",
    "    \n",
    "    \n",
    "\n",
    "    # loop over passed string and add letters and spaces but not numbers\n",
    "    for char in somestr:\n",
    "        if char.isalpha() or char == ' ':\n",
    "\n",
    "                 new_string+= char # now need to strip any white space characters again in return if num remove\n",
    "    \n",
    "    \n",
    "    return new_string.strip().replace(' ', '_') "
   ]
  },
  {
   "cell_type": "markdown",
   "id": "c979ec2e",
   "metadata": {},
   "source": [
    "Q11) Write a function named cumulative_sum that accepts a list of numbers and returns a list that is the cumulative sum of the numbers in the list.\n",
    "\n",
    "        -cumulative_sum([1, 1, 1]) returns [1, 2, 3]\n",
    "        -cumulative_sum([1, 2, 3, 4]) returns [1, 3, 6, 10]\n"
   ]
  },
  {
   "cell_type": "code",
   "execution_count": null,
   "id": "6d5f506b",
   "metadata": {},
   "outputs": [],
   "source": [
    "def cumulative_sum(num):\n",
    "    for x in range(len(num)):\n",
    "        if x !=0:\n",
    "            num[x]=num[x]+num[x-1]\n",
    "    return num"
   ]
  },
  {
   "cell_type": "code",
   "execution_count": null,
   "id": "c4c08088",
   "metadata": {},
   "outputs": [],
   "source": [
    "cumulative_sum([1, 1, 1])"
   ]
  },
  {
   "cell_type": "code",
   "execution_count": null,
   "id": "89f51466",
   "metadata": {},
   "outputs": [],
   "source": [
    "cumulative_sum([1, 2, 3, 4])"
   ]
  },
  {
   "cell_type": "code",
   "execution_count": null,
   "id": "92cafaea",
   "metadata": {},
   "outputs": [],
   "source": []
  },
  {
   "cell_type": "code",
   "execution_count": null,
   "id": "da5cb22d",
   "metadata": {},
   "outputs": [],
   "source": [
    "def cumulative_sum(oldlist):\n",
    "    \n",
    "    newlist=[]\n",
    "    \n",
    "    #intialize a variable to store the cumulative sum\n",
    "    c_sum = 0\n",
    "    \n",
    "    for num in oldlist:\n",
    "        #add the current number to the cumulative sum\n",
    "        c_sum += num\n",
    "        #print(f\"cumulative: {c_sum}\")\n",
    "        #append the cumulative sum to the newlist\n",
    "        newlist.append(c_sum)\n",
    "    print(f'oldlist: {oldlist}')\n",
    "    print(f\"newlist: {newlist}\")"
   ]
  },
  {
   "cell_type": "code",
   "execution_count": null,
   "id": "235a4ad8",
   "metadata": {},
   "outputs": [],
   "source": [
    "assert(cumulative_sum([1,2,3]))\n",
    "assert(cumulative_sum([1,2,3,4]))"
   ]
  },
  {
   "cell_type": "code",
   "execution_count": null,
   "id": "dfef28b8",
   "metadata": {},
   "outputs": [],
   "source": []
  },
  {
   "cell_type": "code",
   "execution_count": null,
   "id": "89068716",
   "metadata": {},
   "outputs": [],
   "source": [
    "#remark for understanding function with loop\n",
    "'''\n",
    "def is_alplha(string):\n",
    "    new_string=''\n",
    "    for letter in string:\n",
    "        if letter.isalpha(): # to check for letters\n",
    "            new_strin +=letter\n",
    "        else:\n",
    "            pass\n",
    "    return new_string\n",
    "'''"
   ]
  },
  {
   "cell_type": "markdown",
   "id": "b0362819",
   "metadata": {},
   "source": [
    "BQ1) Create a function named twelveto24. It should accept a string in the format 10:45am or 4:30pm and return a string that is the representation of the time in a 24-hour format. Bonus write a function that does the opposite."
   ]
  },
  {
   "cell_type": "code",
   "execution_count": null,
   "id": "0d5554f6",
   "metadata": {},
   "outputs": [],
   "source": [
    "def twelveto24(time):\n",
    "    \n",
    "    # separate hours and minutes\n",
    "    time = time.split(':') # split at colon as list\n",
    "    hour = time[0] # store hrs in variables\n",
    "    mins = time[1].split(' ') # store minutes in list\n",
    "    minutes = mins[0] # store min in var\n",
    "    timeofday = mins[1] # store time of day in var\n",
    "    \n",
    "    if timeofday.lower() == 'pm':\n",
    "        \n",
    "        hour = 12 + int(hour)\n",
    "\n",
    "        return str(hour) + ':' + str(minutes) + timeofday\n",
    "    else:\n",
    "      \n",
    "        return hour + ':' + minutes + timeofday"
   ]
  },
  {
   "cell_type": "code",
   "execution_count": null,
   "id": "4c4cf8d5",
   "metadata": {},
   "outputs": [],
   "source": [
    "twelveto24('11:45 pm')"
   ]
  },
  {
   "cell_type": "markdown",
   "id": "079ae8c1",
   "metadata": {},
   "source": [
    "BQ2) Create a function named col_index. It should accept a spreadsheet column name, and return the index number of the column.\n",
    "\n",
    "-col_index('A') returns 1\n",
    "\n",
    "-col_index('B') returns 2\n",
    "\n",
    "-col_index('AA') returns 27"
   ]
  },
  {
   "cell_type": "code",
   "execution_count": null,
   "id": "eb98d115",
   "metadata": {},
   "outputs": [],
   "source": []
  },
  {
   "cell_type": "code",
   "execution_count": null,
   "id": "91f4ed35",
   "metadata": {},
   "outputs": [],
   "source": []
  },
  {
   "cell_type": "code",
   "execution_count": null,
   "id": "7d1474e3",
   "metadata": {},
   "outputs": [],
   "source": []
  }
 ],
 "metadata": {
  "kernelspec": {
   "display_name": "Python 3 (ipykernel)",
   "language": "python",
   "name": "python3"
  },
  "language_info": {
   "codemirror_mode": {
    "name": "ipython",
    "version": 3
   },
   "file_extension": ".py",
   "mimetype": "text/x-python",
   "name": "python",
   "nbconvert_exporter": "python",
   "pygments_lexer": "ipython3",
   "version": "3.11.5"
  }
 },
 "nbformat": 4,
 "nbformat_minor": 5
}
